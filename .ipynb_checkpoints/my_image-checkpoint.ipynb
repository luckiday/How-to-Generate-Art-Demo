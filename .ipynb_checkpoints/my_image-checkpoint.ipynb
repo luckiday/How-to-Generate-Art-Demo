{
 "cells": [
  {
   "cell_type": "code",
   "execution_count": 1,
   "metadata": {
    "collapsed": false
   },
   "outputs": [
    {
     "name": "stderr",
     "output_type": "stream",
     "text": [
      "Using TensorFlow backend.\n"
     ]
    }
   ],
   "source": [
    "from __future__ import print_function\n",
    "\n",
    "import time\n",
    "from PIL import Image\n",
    "import numpy as np\n",
    "\n",
    "from keras import backend\n",
    "from keras.models import Model\n",
    "from keras.applications.vgg16 import VGG16\n",
    "\n",
    "from scipy.optimize import fmin_l_bfgs_b\n",
    "from scipy.misc import imsave"
   ]
  },
  {
   "cell_type": "code",
   "execution_count": 14,
   "metadata": {
    "collapsed": false
   },
   "outputs": [
    {
     "data": {
      "image/png": "[encoded data removed]",
      "text/plain": [
       "<PIL.Image.Image image mode=RGB size=64x64 at 0x10F611450>"
      ]
     },
     "execution_count": 14,
     "metadata": {},
     "output_type": "execute_result"
    }
   ],
   "source": [
    "height = 64\n",
    "width = 64\n",
    "\n",
    "content_image_path = 'images/pier.jpg'\n",
    "content_image = Image.open(content_image_path)\n",
    "content_image = content_image.resize((height, width))\n",
    "content_image"
   ]
  },
  {
   "cell_type": "code",
   "execution_count": 15,
   "metadata": {
    "collapsed": false
   },
   "outputs": [
    {
     "data": {
      "image/png": "[encoded data removed]",
      "text/plain": [
       "<PIL.Image.Image image mode=RGB size=64x64 at 0x10F611B50>"
      ]
     },
     "execution_count": 15,
     "metadata": {},
     "output_type": "execute_result"
    }
   ],
   "source": [
    "style_image_path = 'images/styles/destijl.jpg'\n",
    "style_image = Image.open(style_image_path)\n",
    "style_image = style_image.resize((height, width))\n",
    "style_image"
   ]
  },
  {
   "cell_type": "code",
   "execution_count": 16,
   "metadata": {
    "collapsed": false
   },
   "outputs": [
    {
     "name": "stdout",
     "output_type": "stream",
     "text": [
      "(1, 64, 64, 3)\n",
      "(1, 64, 64, 3)\n"
     ]
    }
   ],
   "source": [
    "content_array = np.asarray(content_image, dtype='float32')\n",
    "content_array = np.expand_dims(content_array, axis=0)\n",
    "print(content_array.shape)\n",
    "\n",
    "style_array = np.asarray(style_image, dtype='float32')\n",
    "style_array = np.expand_dims(style_array, axis=0)\n",
    "print(style_array.shape)"
   ]
  },
  {
   "cell_type": "code",
   "execution_count": 17,
   "metadata": {
    "collapsed": true
   },
   "outputs": [],
   "source": [
    "content_array[:, :, :, 0] -= 103.939\n",
    "content_array[:, :, :, 1] -= 116.779\n",
    "content_array[:, :, :, 2] -= 123.68\n",
    "content_array = content_array[:, :, :, ::-1]\n",
    "\n",
    "style_array[:, :, :, 0] -= 103.939\n",
    "style_array[:, :, :, 1] -= 116.779\n",
    "style_array[:, :, :, 2] -= 123.68\n",
    "style_array = style_array[:, :, :, ::-1]"
   ]
  },
  {
   "cell_type": "code",
   "execution_count": 18,
   "metadata": {
    "collapsed": true
   },
   "outputs": [],
   "source": [
    "content_image = backend.variable(content_array)\n",
    "style_image = backend.variable(style_array)\n",
    "combination_image = backend.placeholder((1, height, width, 3))"
   ]
  },
  {
   "cell_type": "code",
   "execution_count": 19,
   "metadata": {
    "collapsed": true
   },
   "outputs": [],
   "source": [
    "input_tensor = backend.concatenate([content_image,\n",
    "                                    style_image,\n",
    "                                    combination_image], axis=0)"
   ]
  },
  {
   "cell_type": "code",
   "execution_count": 20,
   "metadata": {
    "collapsed": true
   },
   "outputs": [],
   "source": [
    "model = VGG16(input_tensor=input_tensor, weights='imagenet',\n",
    "              include_top=False)"
   ]
  },
  {
   "cell_type": "code",
   "execution_count": 21,
   "metadata": {
    "collapsed": false
   },
   "outputs": [
    {
     "data": {
      "text/plain": [
       "{'block1_conv1': <tf.Tensor 'Relu_13:0' shape=(3, 64, 64, 64) dtype=float32>,\n",
       " 'block1_conv2': <tf.Tensor 'Relu_14:0' shape=(3, 64, 64, 64) dtype=float32>,\n",
       " 'block1_pool': <tf.Tensor 'MaxPool_5:0' shape=(3, 32, 32, 64) dtype=float32>,\n",
       " 'block2_conv1': <tf.Tensor 'Relu_15:0' shape=(3, 32, 32, 128) dtype=float32>,\n",
       " 'block2_conv2': <tf.Tensor 'Relu_16:0' shape=(3, 32, 32, 128) dtype=float32>,\n",
       " 'block2_pool': <tf.Tensor 'MaxPool_6:0' shape=(3, 16, 16, 128) dtype=float32>,\n",
       " 'block3_conv1': <tf.Tensor 'Relu_17:0' shape=(3, 16, 16, 256) dtype=float32>,\n",
       " 'block3_conv2': <tf.Tensor 'Relu_18:0' shape=(3, 16, 16, 256) dtype=float32>,\n",
       " 'block3_conv3': <tf.Tensor 'Relu_19:0' shape=(3, 16, 16, 256) dtype=float32>,\n",
       " 'block3_pool': <tf.Tensor 'MaxPool_7:0' shape=(3, 8, 8, 256) dtype=float32>,\n",
       " 'block4_conv1': <tf.Tensor 'Relu_20:0' shape=(3, 8, 8, 512) dtype=float32>,\n",
       " 'block4_conv2': <tf.Tensor 'Relu_21:0' shape=(3, 8, 8, 512) dtype=float32>,\n",
       " 'block4_conv3': <tf.Tensor 'Relu_22:0' shape=(3, 8, 8, 512) dtype=float32>,\n",
       " 'block4_pool': <tf.Tensor 'MaxPool_8:0' shape=(3, 4, 4, 512) dtype=float32>,\n",
       " 'block5_conv1': <tf.Tensor 'Relu_23:0' shape=(3, 4, 4, 512) dtype=float32>,\n",
       " 'block5_conv2': <tf.Tensor 'Relu_24:0' shape=(3, 4, 4, 512) dtype=float32>,\n",
       " 'block5_conv3': <tf.Tensor 'Relu_25:0' shape=(3, 4, 4, 512) dtype=float32>,\n",
       " 'block5_pool': <tf.Tensor 'MaxPool_9:0' shape=(3, 2, 2, 512) dtype=float32>,\n",
       " 'input_2': <tf.Tensor 'concat_1:0' shape=(3, 64, 64, 3) dtype=float32>}"
      ]
     },
     "execution_count": 21,
     "metadata": {},
     "output_type": "execute_result"
    }
   ],
   "source": [
    "layers = dict([(layer.name, layer.output) for layer in model.layers])\n",
    "layers"
   ]
  },
  {
   "cell_type": "code",
   "execution_count": 22,
   "metadata": {
    "collapsed": true
   },
   "outputs": [],
   "source": [
    "content_weight = 0.025\n",
    "style_weight = 5.0\n",
    "total_variation_weight = 1.0\n",
    "\n",
    "loss = backend.variable(0.)\n",
    "\n",
    "def content_loss(content, combination):\n",
    "    return backend.sum(backend.square(combination - content))\n",
    "\n",
    "layer_features = layers['block2_conv2']\n",
    "content_image_features = layer_features[0, :, :, :]\n",
    "combination_features = layer_features[2, :, :, :]\n",
    "\n",
    "loss += content_weight * content_loss(content_image_features,\n",
    "                                      combination_features)\n",
    "\n",
    "def gram_matrix(x):\n",
    "    features = backend.batch_flatten(backend.permute_dimensions(x, (2, 0, 1)))\n",
    "    gram = backend.dot(features, backend.transpose(features))\n",
    "    return gram\n",
    "\n",
    "def style_loss(style, combination):\n",
    "    S = gram_matrix(style)\n",
    "    C = gram_matrix(combination)\n",
    "    channels = 3\n",
    "    size = height * width\n",
    "    return backend.sum(backend.square(S - C)) / (4. * (channels ** 2) * (size ** 2))\n",
    "\n",
    "feature_layers = ['block1_conv2', 'block2_conv2',\n",
    "                  'block3_conv3', 'block4_conv3',\n",
    "                  'block5_conv3']\n",
    "for layer_name in feature_layers:\n",
    "    layer_features = layers[layer_name]\n",
    "    style_features = layer_features[1, :, :, :]\n",
    "    combination_features = layer_features[2, :, :, :]\n",
    "    sl = style_loss(style_features, combination_features)\n",
    "    loss += (style_weight / len(feature_layers)) * sl\n",
    "    \n",
    "    \n",
    "def total_variation_loss(x):\n",
    "    a = backend.square(x[:, :height-1, :width-1, :] - x[:, 1:, :width-1, :])\n",
    "    b = backend.square(x[:, :height-1, :width-1, :] - x[:, :height-1, 1:, :])\n",
    "    return backend.sum(backend.pow(a + b, 1.25))\n",
    "\n",
    "loss += total_variation_weight * total_variation_loss(combination_image)\n",
    "\n",
    "grads = backend.gradients(loss, combination_image)"
   ]
  },
  {
   "cell_type": "code",
   "execution_count": 23,
   "metadata": {
    "collapsed": true
   },
   "outputs": [],
   "source": [
    "outputs = [loss]\n",
    "outputs += grads\n",
    "f_outputs = backend.function([combination_image], outputs)\n",
    "\n",
    "def eval_loss_and_grads(x):\n",
    "    x = x.reshape((1, height, width, 3))\n",
    "    outs = f_outputs([x])\n",
    "    loss_value = outs[0]\n",
    "    grad_values = outs[1].flatten().astype('float64')\n",
    "    return loss_value, grad_values\n",
    "\n",
    "class Evaluator(object):\n",
    "\n",
    "    def __init__(self):\n",
    "        self.loss_value = None\n",
    "        self.grads_values = None\n",
    "\n",
    "    def loss(self, x):\n",
    "        assert self.loss_value is None\n",
    "        loss_value, grad_values = eval_loss_and_grads(x)\n",
    "        self.loss_value = loss_value\n",
    "        self.grad_values = grad_values\n",
    "        return self.loss_value\n",
    "\n",
    "    def grads(self, x):\n",
    "        assert self.loss_value is not None\n",
    "        grad_values = np.copy(self.grad_values)\n",
    "        self.loss_value = None\n",
    "        self.grad_values = None\n",
    "        return grad_values\n",
    "\n",
    "evaluator = Evaluator()"
   ]
  },
  {
   "cell_type": "code",
   "execution_count": 26,
   "metadata": {
    "collapsed": false
   },
   "outputs": [
    {
     "name": "stdout",
     "output_type": "stream",
     "text": [
      "Start of iteration 0\n",
      "Current loss value: 1.06819e+12\n",
      "Iteration 0 completed in 10s\n",
      "Start of iteration 1\n",
      "Current loss value: 4.39624e+11\n",
      "Iteration 1 completed in 9s\n",
      "Start of iteration 2\n",
      "Current loss value: 2.79608e+11\n",
      "Iteration 2 completed in 11s\n",
      "Start of iteration 3\n",
      "Current loss value: 2.06169e+11\n",
      "Iteration 3 completed in 10s\n",
      "Start of iteration 4\n",
      "Current loss value: 1.6318e+11\n",
      "Iteration 4 completed in 9s\n",
      "Start of iteration 5\n",
      "Current loss value: 1.41842e+11\n",
      "Iteration 5 completed in 10s\n",
      "Start of iteration 6\n",
      "Current loss value: 1.27403e+11\n",
      "Iteration 6 completed in 10s\n",
      "Start of iteration 7\n",
      "Current loss value: 1.17812e+11\n",
      "Iteration 7 completed in 11s\n",
      "Start of iteration 8\n",
      "Current loss value: 1.11341e+11\n",
      "Iteration 8 completed in 14s\n",
      "Start of iteration 9\n",
      "Current loss value: 1.05991e+11\n",
      "Iteration 9 completed in 13s\n"
     ]
    }
   ],
   "source": [
    "x = np.random.uniform(0, 255, (1, height, width, 3)) - 128.\n",
    "\n",
    "iterations = 10\n",
    "\n",
    "for i in range(iterations):\n",
    "    print('Start of iteration', i)\n",
    "    start_time = time.time()\n",
    "    x, min_val, info = fmin_l_bfgs_b(evaluator.loss, x.flatten(),\n",
    "                                     fprime=evaluator.grads, maxfun=20)\n",
    "    print('Current loss value:', min_val)\n",
    "    end_time = time.time()\n",
    "    print('Iteration %d completed in %ds' % (i, end_time - start_time))"
   ]
  },
  {
   "cell_type": "code",
   "execution_count": 31,
   "metadata": {
    "collapsed": false
   },
   "outputs": [
    {
     "name": "stdout",
     "output_type": "stream",
     "text": [
      "Start of iteration 0\n",
      "Current loss value: 2.43034e+11\n",
      "Iteration 0 completed in 10s\n",
      "Start of iteration 1\n",
      "Current loss value: 1.4694e+11\n",
      "Iteration 1 completed in 14s\n",
      "Start of iteration 2\n",
      "Current loss value: 1.15344e+11\n",
      "Iteration 2 completed in 24s\n",
      "Start of iteration 3\n",
      "Current loss value: 1.04293e+11\n",
      "Iteration 3 completed in 21s\n",
      "Start of iteration 4\n",
      "Current loss value: 9.77842e+10\n",
      "Iteration 4 completed in 23s\n",
      "Start of iteration 5\n",
      "Current loss value: 9.31721e+10\n",
      "Iteration 5 completed in 11s\n",
      "Start of iteration 6\n",
      "Current loss value: 9.02524e+10\n",
      "Iteration 6 completed in 12s\n",
      "Start of iteration 7\n",
      "Current loss value: 8.80294e+10\n",
      "Iteration 7 completed in 13s\n",
      "Start of iteration 8\n",
      "Current loss value: 8.63849e+10\n",
      "Iteration 8 completed in 17s\n",
      "Start of iteration 9\n",
      "Current loss value: 8.46517e+10\n",
      "Iteration 9 completed in 12s\n"
     ]
    }
   ],
   "source": [
    "for i in range(iterations):\n",
    "    print('Start of iteration', i)\n",
    "    start_time = time.time()\n",
    "    x, min_val, info = fmin_l_bfgs_b(evaluator.loss, x.flatten(),\n",
    "                                     fprime=evaluator.grads, maxfun=20)\n",
    "    print('Current loss value:', min_val)\n",
    "    end_time = time.time()\n",
    "    print('Iteration %d completed in %ds' % (i, end_time - start_time))"
   ]
  },
  {
   "cell_type": "code",
   "execution_count": 32,
   "metadata": {
    "collapsed": false
   },
   "outputs": [
    {
     "data": {
      "image/png": "[encoded data removed]",
      "text/plain": [
       "<PIL.Image.Image image mode=RGB size=64x64 at 0x1126F0F90>"
      ]
     },
     "execution_count": 32,
     "metadata": {},
     "output_type": "execute_result"
    }
   ],
   "source": [
    "x = x.reshape((height, width, 3))\n",
    "x = x[:, :, ::-1]\n",
    "x[:, :, 0] += 103.939\n",
    "x[:, :, 1] += 116.779\n",
    "x[:, :, 2] += 123.68\n",
    "x = np.clip(x, 0, 255).astype('uint8')\n",
    "\n",
    "Image.fromarray(x)"
   ]
  },
  {
   "cell_type": "code",
   "execution_count": null,
   "metadata": {
    "collapsed": true
   },
   "outputs": [],
   "source": []
  }
 ],
 "metadata": {
  "kernelspec": {
   "display_name": "Python 2",
   "language": "python",
   "name": "python2"
  },
  "language_info": {
   "codemirror_mode": {
    "name": "ipython",
    "version": 2
   },
   "file_extension": ".py",
   "mimetype": "text/x-python",
   "name": "python",
   "nbconvert_exporter": "python",
   "pygments_lexer": "ipython2",
   "version": "2.7.17"
  }
 },
 "nbformat": 4,
 "nbformat_minor": 2
}
